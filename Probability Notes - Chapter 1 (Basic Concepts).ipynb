{
 "cells": [
  {
   "cell_type": "code",
   "execution_count": 4,
   "id": "36b94a40",
   "metadata": {},
   "outputs": [
    {
     "name": "stdout",
     "output_type": "stream",
     "text": [
      "<class 'set'>\n",
      "6\n"
     ]
    }
   ],
   "source": [
    "# Cardinality for finite sets\n",
    "# Denoted by |A| and is the number of elements in sets\n",
    "\n",
    "# Create Set\n",
    "s = {1,2,3,5,6,7}\n",
    "print(type(s))\n",
    "\n",
    "# Set cardinality\n",
    "A = len(s)\n",
    "print(A)\n"
   ]
  },
  {
   "cell_type": "code",
   "execution_count": 17,
   "id": "3dbc67c5",
   "metadata": {},
   "outputs": [
    {
     "name": "stdout",
     "output_type": "stream",
     "text": [
      "|A U B|= 9\n",
      "|A| + |B| - |A n B|= 9\n"
     ]
    }
   ],
   "source": [
    "# inclusion-exclusion principle (2 variables)\n",
    "# |A U B| = |A| + |B| - |A n B|\n",
    "\n",
    "# Create Sets a and b\n",
    "a = {12,43,6,77,3,9}\n",
    "b = {4,3,7,8,9}\n",
    "\n",
    "# Find the cardinality\n",
    "A = len(a)\n",
    "B = len(b)\n",
    "\n",
    "A_u_B = len(a.union(b))\n",
    "A_n_B = len(a.intersection(b))\n",
    "\n",
    "# Check values\n",
    "print(\"|A U B|= \" + str(A_u_B)) \n",
    "print(\"|A| + |B| - |A n B|= \"+str(A+B-A_n_B))"
   ]
  },
  {
   "cell_type": "code",
   "execution_count": 37,
   "id": "43780606",
   "metadata": {},
   "outputs": [
    {
     "name": "stdout",
     "output_type": "stream",
     "text": [
      "|A U B U C|= 14\n",
      "|A| + |B| + |C| - |A n B| - |A n C| - |B n C| + |A n B n C|= 14\n"
     ]
    }
   ],
   "source": [
    "# inclusion-exclusion principle (3 variables)\n",
    "# |A u B u C| = |A| + |B| + |C| - |A n C| - |A n B| - |B n C| + |A n B n C|\n",
    "\n",
    "# Create sets a,b,and c\n",
    "a = {6,7,8,9,0,4,27}\n",
    "b = {27,36,45,54,9,7}\n",
    "c = {3,10,6,27,100,99}\n",
    "\n",
    "# Find Cardinality\n",
    "A = len(a)\n",
    "B = len(b)\n",
    "C = len(c)\n",
    "\n",
    "A_n_B = len(a.intersection(b))\n",
    "A_n_C = len(a.intersection(c))\n",
    "B_n_C = len(b.intersection(c))\n",
    "\n",
    "A_n_B_n_C = len(set.intersection(a,b,c))\n",
    "\n",
    "# Check values\n",
    "print(\"|A U B U C|= \" + str(len(a.union(b,c))))\n",
    "print(\"|A| + |B| + |C| - |A n B| - |A n C| - |B n C| + |A n B n C|= \"+ str(A + B + C - A_n_B - A_n_C - B_n_C + A_n_B_n_C))"
   ]
  },
  {
   "cell_type": "code",
   "execution_count": null,
   "id": "4e599fa6",
   "metadata": {},
   "outputs": [],
   "source": [
    "# inclusion-exclusion general form\n",
    "\n"
   ]
  }
 ],
 "metadata": {
  "kernelspec": {
   "display_name": "Python 3 (ipykernel)",
   "language": "python",
   "name": "python3"
  },
  "language_info": {
   "codemirror_mode": {
    "name": "ipython",
    "version": 3
   },
   "file_extension": ".py",
   "mimetype": "text/x-python",
   "name": "python",
   "nbconvert_exporter": "python",
   "pygments_lexer": "ipython3",
   "version": "3.9.13"
  }
 },
 "nbformat": 4,
 "nbformat_minor": 5
}
